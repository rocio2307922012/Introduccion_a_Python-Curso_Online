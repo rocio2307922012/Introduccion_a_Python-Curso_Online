{
  "nbformat": 4,
  "nbformat_minor": 0,
  "metadata": {
    "colab": {
      "name": "Codigo_Tema_02.ipynb",
      "provenance": [],
      "collapsed_sections": [],
      "toc_visible": true,
      "include_colab_link": true
    },
    "kernelspec": {
      "name": "python3",
      "display_name": "Python 3"
    }
  },
  "cells": [
    {
      "cell_type": "markdown",
      "metadata": {
        "id": "view-in-github",
        "colab_type": "text"
      },
      "source": [
        "<a href=\"https://colab.research.google.com/github/rocio2307922012/Introduccion_a_Python-Curso_Online/blob/main/Codigo_Tema_02.ipynb\" target=\"_parent\"><img src=\"https://colab.research.google.com/assets/colab-badge.svg\" alt=\"Open In Colab\"/></a>"
      ]
    },
    {
      "cell_type": "markdown",
      "metadata": {
        "id": "55co2gYtZu1G"
      },
      "source": [
        "# Código Tema 02"
      ]
    },
    {
      "cell_type": "markdown",
      "metadata": {
        "id": "ebnWxHzdZ5xC"
      },
      "source": [
        "[![Open In Colab](https://colab.research.google.com/assets/colab-badge.svg)](https://colab.research.google.com/drive/1-KQVyLAXjBUxxC0OM87L8GrgJodjXAcA?usp=sharing)"
      ]
    },
    {
      "cell_type": "code",
      "metadata": {
        "colab": {
          "base_uri": "https://localhost:8080/"
        },
        "id": "BbkI6HAYKCBD",
        "outputId": "75e217bd-6423-4d79-9cb6-29c2e13a048f"
      },
      "source": [
        "# Creando una variable string\r\n",
        "Mensaje = \"Hola\"\r\n",
        "\r\n",
        "# Imprimiendo la variable\r\n",
        "print(Mensaje)\r\n",
        "\r\n",
        "print(\"\\t¿Como estas? \\n \\tEstoy bien\", Mensaje)\r\n",
        "# \\n es un salto de linea\r\n",
        "# \\t es un tabulador"
      ],
      "execution_count": null,
      "outputs": [
        {
          "output_type": "stream",
          "text": [
            "Hola\n",
            "\t¿Como estas? \n",
            " \tEstoy bien Hola\n"
          ],
          "name": "stdout"
        }
      ]
    },
    {
      "cell_type": "code",
      "metadata": {
        "colab": {
          "base_uri": "https://localhost:8080/"
        },
        "id": "2-sxbblI5EHw",
        "outputId": "3cbd5f5a-7918-4b95-ebd5-4caddf406e04"
      },
      "source": [
        "# Concatenacion de strings\r\n",
        "M_1 = \"Estoy\"\r\n",
        "M_2 = \" dando\"\r\n",
        "M_3 = \" una clase\"\r\n",
        "M_total = M_1 + M_2 + M_3\r\n",
        "\r\n",
        "print(M_total)\r\n",
        "print(M_1 + M_2 + M_3 + \" de Python\")\r\n",
        "\r\n",
        "# No hagan esto\r\n",
        "Numero_1 = \"1\"\r\n",
        "Numero_2 = \"2\"\r\n",
        "Numero_3 = Numero_1 + Numero_2\r\n",
        "print(Numero_3)"
      ],
      "execution_count": null,
      "outputs": [
        {
          "output_type": "stream",
          "text": [
            "Estoy dando una clase\n",
            "Estoy dando una clase de Python\n",
            "12\n"
          ],
          "name": "stdout"
        }
      ]
    },
    {
      "cell_type": "code",
      "metadata": {
        "colab": {
          "base_uri": "https://localhost:8080/"
        },
        "id": "VTKpb-LI6T9Q",
        "outputId": "cd656876-9647-463c-ee21-5432057dc8a6"
      },
      "source": [
        "print(\"¿Cual es tu nombre?\")\r\n",
        "\r\n",
        "# Solicitando al usuario un string\r\n",
        "Nombre = input()\r\n",
        "\r\n",
        "#print(Nombre)\r\n",
        "# Solicitando un string al usuario mediante un mensaje\r\n",
        "Apellido = input(\"¿Cual es tu apellido? \")\r\n",
        "\r\n",
        "print(\"Mi nombre es\", Nombre, Apellido)"
      ],
      "execution_count": null,
      "outputs": [
        {
          "output_type": "stream",
          "text": [
            "¿Cual es tu nombre?\n",
            "David\n",
            "¿Cual es tu apellido? Alba\n",
            "Mi nombre es David Alba\n"
          ],
          "name": "stdout"
        }
      ]
    },
    {
      "cell_type": "markdown",
      "metadata": {
        "id": "Jo_03yXKWMnV"
      },
      "source": [
        "#En esta sección puedes hacer tu tarea\r\n"
      ]
    },
    {
      "cell_type": "code",
      "metadata": {
        "id": "yDlAX9y2WZF-",
        "outputId": "b44b5a3d-0d65-41dd-fbdc-405ba2f7989e",
        "colab": {
          "base_uri": "https://localhost:8080/"
        }
      },
      "source": [
        "nombre_1=input(\"¿cual es tu primer nombre?\")\r\n",
        "nombre_2=input(\"¿cual es tu segundo nombre\")\r\n",
        "apellido_1=input(\"¿cual es tu primer apellido?\")\r\n",
        "apellido_2=input(\"¿segundo apellido?\")\r\n",
        "print(\"mi nombre es\",nombre_1,nombre_2,apellido_1,apellido_2)\r\n"
      ],
      "execution_count": 3,
      "outputs": [
        {
          "output_type": "stream",
          "text": [
            "¿cual es tu primer nombre?rocio \n",
            "¿cual es tu segundo nombreno\n",
            "¿cual es tu primer apellido?lira\n",
            "¿segundo apellido?marmolejo\n",
            "mi nombre es rocio  no lira marmolejo\n"
          ],
          "name": "stdout"
        }
      ]
    },
    {
      "cell_type": "code",
      "metadata": {
        "id": "2ST5I1xwunmD",
        "outputId": "2c16d575-ed96-4490-9772-5ed0f7eda96d",
        "colab": {
          "base_uri": "https://localhost:8080/"
        }
      },
      "source": [
        "numero=17\r\n",
        "decimal=0.7\r\n",
        "texto='Texto'\r\n",
        "booleanos= True\r\n",
        "print(decimal)\r\n",
        "print(type(booleanos))"
      ],
      "execution_count": 6,
      "outputs": [
        {
          "output_type": "stream",
          "text": [
            "0.7\n",
            "<class 'bool'>\n"
          ],
          "name": "stdout"
        }
      ]
    },
    {
      "cell_type": "code",
      "metadata": {
        "id": "PNHgvsqFvLX-",
        "outputId": "c1627e50-fb87-40d9-8315-79f20e0b8ec4",
        "colab": {
          "base_uri": "https://localhost:8080/"
        }
      },
      "source": [
        "tupla=()\r\n",
        "lista=[]\r\n",
        "set_={}\r\n",
        "dicionario={2:2, 1:5}\r\n",
        "print(tupla)\r\n",
        "print(lista)\r\n",
        "print(type(tupla))\r\n",
        "print(type(lista))"
      ],
      "execution_count": 9,
      "outputs": [
        {
          "output_type": "stream",
          "text": [
            "()\n",
            "[]\n",
            "<class 'tuple'>\n",
            "<class 'list'>\n"
          ],
          "name": "stdout"
        }
      ]
    },
    {
      "cell_type": "markdown",
      "metadata": {
        "id": "KbZ_EC7Ow7Mp"
      },
      "source": [
        "# Sección nueva"
      ]
    }
  ]
}